{
  "cells": [
    {
      "cell_type": "markdown",
      "id": "x5imk_Z0P-ej",
      "metadata": {
        "id": "x5imk_Z0P-ej"
      },
      "source": [
        "# 1. Install and Import Dependencies"
      ]
    },
    {
      "cell_type": "code",
      "execution_count": 20,
      "id": "pVJrpRS9P-en",
      "metadata": {
        "colab": {
          "base_uri": "https://localhost:8080/"
        },
        "collapsed": true,
        "id": "pVJrpRS9P-en",
        "outputId": "2fedf334-b669-4642-9c27-6f65914c33c3"
      },
      "outputs": [
        {
          "name": "stdout",
          "output_type": "stream",
          "text": [
            "Looking in indexes: https://mirror.baidu.com/pypi/simple\n"
          ]
        },
        {
          "name": "stderr",
          "output_type": "stream",
          "text": [
            "ERROR: Could not find a version that satisfies the requirement paddlepaddle-gpu==2.0.0 (from versions: 2.3.0, 2.3.1, 2.3.2, 2.4.0rc0, 2.4.0, 2.4.1, 2.4.2, 2.5.0rc0, 2.5.0rc1, 2.5.0, 2.5.1)\n",
            "ERROR: No matching distribution found for paddlepaddle-gpu==2.0.0\n",
            "WARNING: You are using pip version 21.2.3; however, version 23.2.1 is available.\n",
            "You should consider upgrading via the 'c:\\Users\\infor\\AppData\\Local\\Programs\\Python\\Python310\\python.exe -m pip install --upgrade pip' command.\n"
          ]
        }
      ],
      "source": [
        "# GitHub repo installation of paddle\n",
        "!python -m pip install paddlepaddle-gpu==2.0.0 -i https://mirror.baidu.com/pypi/simple"
      ]
    },
    {
      "cell_type": "code",
      "execution_count": 21,
      "id": "sxfbEoXvP-ep",
      "metadata": {
        "colab": {
          "base_uri": "https://localhost:8080/"
        },
        "collapsed": true,
        "id": "sxfbEoXvP-ep",
        "outputId": "7ba20740-b088-460e-b6dc-9c65b52cf347"
      },
      "outputs": [
        {
          "name": "stdout",
          "output_type": "stream",
          "text": [
            "Requirement already satisfied: paddleocr in c:\\users\\infor\\appdata\\local\\programs\\python\\python310\\lib\\site-packages (2.7.0.2)\n",
            "Requirement already satisfied: imgaug in c:\\users\\infor\\appdata\\local\\programs\\python\\python310\\lib\\site-packages (from paddleocr) (0.4.0)\n",
            "Requirement already satisfied: PyMuPDF<1.21.0 in c:\\users\\infor\\appdata\\local\\programs\\python\\python310\\lib\\site-packages (from paddleocr) (1.20.2)\n",
            "Requirement already satisfied: fonttools>=4.24.0 in c:\\users\\infor\\appdata\\local\\programs\\python\\python310\\lib\\site-packages (from paddleocr) (4.39.4)\n",
            "Requirement already satisfied: attrdict in c:\\users\\infor\\appdata\\local\\programs\\python\\python310\\lib\\site-packages (from paddleocr) (2.0.1)\n",
            "Requirement already satisfied: beautifulsoup4 in c:\\users\\infor\\appdata\\local\\programs\\python\\python310\\lib\\site-packages (from paddleocr) (4.12.2)\n",
            "Requirement already satisfied: fire>=0.3.0 in c:\\users\\infor\\appdata\\local\\programs\\python\\python310\\lib\\site-packages (from paddleocr) (0.5.0)\n",
            "Requirement already satisfied: opencv-python<=4.6.0.66 in c:\\users\\infor\\appdata\\local\\programs\\python\\python310\\lib\\site-packages (from paddleocr) (4.6.0.66)\n",
            "Requirement already satisfied: python-docx in c:\\users\\infor\\appdata\\local\\programs\\python\\python310\\lib\\site-packages (from paddleocr) (0.8.11)\n",
            "Requirement already satisfied: pyclipper in c:\\users\\infor\\appdata\\local\\programs\\python\\python310\\lib\\site-packages (from paddleocr) (1.3.0.post5)\n",
            "Requirement already satisfied: premailer in c:\\users\\infor\\appdata\\local\\programs\\python\\python310\\lib\\site-packages (from paddleocr) (3.10.0)\n",
            "Requirement already satisfied: tqdm in c:\\users\\infor\\appdata\\local\\programs\\python\\python310\\lib\\site-packages (from paddleocr) (4.65.0)\n",
            "Requirement already satisfied: openpyxl in c:\\users\\infor\\appdata\\local\\programs\\python\\python310\\lib\\site-packages (from paddleocr) (3.1.2)\n",
            "Requirement already satisfied: scikit-image in c:\\users\\infor\\appdata\\local\\programs\\python\\python310\\lib\\site-packages (from paddleocr) (0.21.0)\n",
            "Requirement already satisfied: pdf2docx in c:\\users\\infor\\appdata\\local\\programs\\python\\python310\\lib\\site-packages (from paddleocr) (0.5.6)\n",
            "Requirement already satisfied: visualdl in c:\\users\\infor\\appdata\\local\\programs\\python\\python310\\lib\\site-packages (from paddleocr) (2.5.3)\n",
            "Requirement already satisfied: rapidfuzz in c:\\users\\infor\\appdata\\local\\programs\\python\\python310\\lib\\site-packages (from paddleocr) (3.2.0)\n",
            "Requirement already satisfied: shapely in c:\\users\\infor\\appdata\\local\\programs\\python\\python310\\lib\\site-packages (from paddleocr) (2.0.1)\n",
            "Requirement already satisfied: lmdb in c:\\users\\infor\\appdata\\local\\programs\\python\\python310\\lib\\site-packages (from paddleocr) (1.4.1)\n",
            "Requirement already satisfied: Pillow in c:\\users\\infor\\appdata\\local\\programs\\python\\python310\\lib\\site-packages (from paddleocr) (9.5.0)\n",
            "Requirement already satisfied: opencv-contrib-python<=4.6.0.66 in c:\\users\\infor\\appdata\\local\\programs\\python\\python310\\lib\\site-packages (from paddleocr) (4.6.0.66)\n",
            "Requirement already satisfied: cython in c:\\users\\infor\\appdata\\local\\programs\\python\\python310\\lib\\site-packages (from paddleocr) (3.0.2)\n",
            "Requirement already satisfied: numpy in c:\\users\\infor\\appdata\\local\\programs\\python\\python310\\lib\\site-packages (from paddleocr) (1.24.3)\n",
            "Requirement already satisfied: lxml in c:\\users\\infor\\appdata\\local\\programs\\python\\python310\\lib\\site-packages (from paddleocr) (4.9.3)\n",
            "Requirement already satisfied: six in c:\\users\\infor\\appdata\\local\\programs\\python\\python310\\lib\\site-packages (from fire>=0.3.0->paddleocr) (1.16.0)\n",
            "Requirement already satisfied: termcolor in c:\\users\\infor\\appdata\\local\\programs\\python\\python310\\lib\\site-packages (from fire>=0.3.0->paddleocr) (2.3.0)\n",
            "Requirement already satisfied: soupsieve>1.2 in c:\\users\\infor\\appdata\\local\\programs\\python\\python310\\lib\\site-packages (from beautifulsoup4->paddleocr) (2.4.1)\n",
            "Requirement already satisfied: matplotlib in c:\\users\\infor\\appdata\\local\\programs\\python\\python310\\lib\\site-packages (from imgaug->paddleocr) (3.7.1)\n",
            "Requirement already satisfied: imageio in c:\\users\\infor\\appdata\\local\\programs\\python\\python310\\lib\\site-packages (from imgaug->paddleocr) (2.31.1)\n",
            "Requirement already satisfied: scipy in c:\\users\\infor\\appdata\\local\\programs\\python\\python310\\lib\\site-packages (from imgaug->paddleocr) (1.10.1)\n",
            "Requirement already satisfied: PyWavelets>=1.1.1 in c:\\users\\infor\\appdata\\local\\programs\\python\\python310\\lib\\site-packages (from scikit-image->paddleocr) (1.4.1)\n",
            "Requirement already satisfied: networkx>=2.8 in c:\\users\\infor\\appdata\\local\\programs\\python\\python310\\lib\\site-packages (from scikit-image->paddleocr) (3.1)\n",
            "Requirement already satisfied: lazy_loader>=0.2 in c:\\users\\infor\\appdata\\local\\programs\\python\\python310\\lib\\site-packages (from scikit-image->paddleocr) (0.3)\n",
            "Requirement already satisfied: packaging>=21 in c:\\users\\infor\\appdata\\roaming\\python\\python310\\site-packages (from scikit-image->paddleocr) (23.1)\n",
            "Requirement already satisfied: tifffile>=2022.8.12 in c:\\users\\infor\\appdata\\local\\programs\\python\\python310\\lib\\site-packages (from scikit-image->paddleocr) (2023.7.18)\n",
            "Requirement already satisfied: contourpy>=1.0.1 in c:\\users\\infor\\appdata\\local\\programs\\python\\python310\\lib\\site-packages (from matplotlib->imgaug->paddleocr) (1.0.7)\n",
            "Requirement already satisfied: cycler>=0.10 in c:\\users\\infor\\appdata\\local\\programs\\python\\python310\\lib\\site-packages (from matplotlib->imgaug->paddleocr) (0.11.0)\n",
            "Requirement already satisfied: kiwisolver>=1.0.1 in c:\\users\\infor\\appdata\\local\\programs\\python\\python310\\lib\\site-packages (from matplotlib->imgaug->paddleocr) (1.4.4)\n",
            "Requirement already satisfied: python-dateutil>=2.7 in c:\\users\\infor\\appdata\\roaming\\python\\python310\\site-packages (from matplotlib->imgaug->paddleocr) (2.8.2)\n",
            "Requirement already satisfied: pyparsing>=2.3.1 in c:\\users\\infor\\appdata\\local\\programs\\python\\python310\\lib\\site-packages (from matplotlib->imgaug->paddleocr) (3.0.9)\n",
            "Requirement already satisfied: et-xmlfile in c:\\users\\infor\\appdata\\local\\programs\\python\\python310\\lib\\site-packages (from openpyxl->paddleocr) (1.1.0)\n",
            "Requirement already satisfied: cachetools in c:\\users\\infor\\appdata\\local\\programs\\python\\python310\\lib\\site-packages (from premailer->paddleocr) (5.3.1)\n",
            "Requirement already satisfied: cssselect in c:\\users\\infor\\appdata\\local\\programs\\python\\python310\\lib\\site-packages (from premailer->paddleocr) (1.2.0)\n",
            "Requirement already satisfied: cssutils in c:\\users\\infor\\appdata\\local\\programs\\python\\python310\\lib\\site-packages (from premailer->paddleocr) (2.7.1)\n",
            "Requirement already satisfied: requests in c:\\users\\infor\\appdata\\local\\programs\\python\\python310\\lib\\site-packages (from premailer->paddleocr) (2.31.0)\n",
            "Requirement already satisfied: idna<4,>=2.5 in c:\\users\\infor\\appdata\\local\\programs\\python\\python310\\lib\\site-packages (from requests->premailer->paddleocr) (3.4)\n",
            "Requirement already satisfied: certifi>=2017.4.17 in c:\\users\\infor\\appdata\\local\\programs\\python\\python310\\lib\\site-packages (from requests->premailer->paddleocr) (2023.7.22)\n",
            "Requirement already satisfied: urllib3<3,>=1.21.1 in c:\\users\\infor\\appdata\\local\\programs\\python\\python310\\lib\\site-packages (from requests->premailer->paddleocr) (1.26.16)\n",
            "Requirement already satisfied: charset-normalizer<4,>=2 in c:\\users\\infor\\appdata\\local\\programs\\python\\python310\\lib\\site-packages (from requests->premailer->paddleocr) (3.2.0)\n",
            "Requirement already satisfied: colorama in c:\\users\\infor\\appdata\\roaming\\python\\python310\\site-packages (from tqdm->paddleocr) (0.4.6)\n",
            "Requirement already satisfied: Flask-Babel>=3.0.0 in c:\\users\\infor\\appdata\\local\\programs\\python\\python310\\lib\\site-packages (from visualdl->paddleocr) (3.1.0)\n",
            "Requirement already satisfied: flask>=1.1.1 in c:\\users\\infor\\appdata\\local\\programs\\python\\python310\\lib\\site-packages (from visualdl->paddleocr) (2.3.3)\n",
            "Requirement already satisfied: psutil in c:\\users\\infor\\appdata\\roaming\\python\\python310\\site-packages (from visualdl->paddleocr) (5.9.5)\n",
            "Requirement already satisfied: rarfile in c:\\users\\infor\\appdata\\local\\programs\\python\\python310\\lib\\site-packages (from visualdl->paddleocr) (4.0)\n",
            "Requirement already satisfied: bce-python-sdk in c:\\users\\infor\\appdata\\local\\programs\\python\\python310\\lib\\site-packages (from visualdl->paddleocr) (0.8.90)\n",
            "Requirement already satisfied: protobuf>=3.20.0 in c:\\users\\infor\\appdata\\local\\programs\\python\\python310\\lib\\site-packages (from visualdl->paddleocr) (3.20.2)\n",
            "Requirement already satisfied: pandas in c:\\users\\infor\\appdata\\local\\programs\\python\\python310\\lib\\site-packages (from visualdl->paddleocr) (2.0.2)\n",
            "Requirement already satisfied: Werkzeug>=2.3.7 in c:\\users\\infor\\appdata\\local\\programs\\python\\python310\\lib\\site-packages (from flask>=1.1.1->visualdl->paddleocr) (2.3.7)\n",
            "Requirement already satisfied: itsdangerous>=2.1.2 in c:\\users\\infor\\appdata\\local\\programs\\python\\python310\\lib\\site-packages (from flask>=1.1.1->visualdl->paddleocr) (2.1.2)\n",
            "Requirement already satisfied: blinker>=1.6.2 in c:\\users\\infor\\appdata\\local\\programs\\python\\python310\\lib\\site-packages (from flask>=1.1.1->visualdl->paddleocr) (1.6.2)\n",
            "Requirement already satisfied: Jinja2>=3.1.2 in c:\\users\\infor\\appdata\\local\\programs\\python\\python310\\lib\\site-packages (from flask>=1.1.1->visualdl->paddleocr) (3.1.2)\n",
            "Requirement already satisfied: click>=8.1.3 in c:\\users\\infor\\appdata\\local\\programs\\python\\python310\\lib\\site-packages (from flask>=1.1.1->visualdl->paddleocr) (8.1.6)\n",
            "Requirement already satisfied: pytz>=2022.7 in c:\\users\\infor\\appdata\\local\\programs\\python\\python310\\lib\\site-packages (from Flask-Babel>=3.0.0->visualdl->paddleocr) (2023.3)\n",
            "Requirement already satisfied: Babel>=2.12 in c:\\users\\infor\\appdata\\local\\programs\\python\\python310\\lib\\site-packages (from Flask-Babel>=3.0.0->visualdl->paddleocr) (2.12.1)\n",
            "Requirement already satisfied: MarkupSafe>=2.0 in c:\\users\\infor\\appdata\\local\\programs\\python\\python310\\lib\\site-packages (from Jinja2>=3.1.2->flask>=1.1.1->visualdl->paddleocr) (2.1.3)\n",
            "Requirement already satisfied: pycryptodome>=3.8.0 in c:\\users\\infor\\appdata\\local\\programs\\python\\python310\\lib\\site-packages (from bce-python-sdk->visualdl->paddleocr) (3.18.0)\n",
            "Requirement already satisfied: future>=0.6.0 in c:\\users\\infor\\appdata\\local\\programs\\python\\python310\\lib\\site-packages (from bce-python-sdk->visualdl->paddleocr) (0.18.3)\n",
            "Requirement already satisfied: tzdata>=2022.1 in c:\\users\\infor\\appdata\\local\\programs\\python\\python310\\lib\\site-packages (from pandas->visualdl->paddleocr) (2023.3)\n"
          ]
        },
        {
          "name": "stderr",
          "output_type": "stream",
          "text": [
            "WARNING: You are using pip version 21.2.3; however, version 23.2.1 is available.\n",
            "You should consider upgrading via the 'C:\\Users\\infor\\AppData\\Local\\Programs\\Python\\Python310\\python.exe -m pip install --upgrade pip' command.\n"
          ]
        }
      ],
      "source": [
        "# Install paddle OCR\n",
        "%pip install paddleocr"
      ]
    },
    {
      "cell_type": "code",
      "execution_count": 22,
      "id": "t-so0axmP-eq",
      "metadata": {
        "colab": {
          "base_uri": "https://localhost:8080/"
        },
        "id": "t-so0axmP-eq",
        "outputId": "2ec1724b-bdb0-486a-db50-db9151174e3a"
      },
      "outputs": [
        {
          "name": "stderr",
          "output_type": "stream",
          "text": [
            "\"git\" no se reconoce como un comando interno o externo,\n",
            "programa o archivo por lotes ejecutable.\n"
          ]
        }
      ],
      "source": [
        "# Clone paddle OCR repo - get FONTS for visualization\n",
        "!git clone https://github.com/PaddlePaddle/PaddleOCR"
      ]
    },
    {
      "cell_type": "code",
      "execution_count": 23,
      "id": "Y1ul6hMNQ2XF",
      "metadata": {
        "colab": {
          "base_uri": "https://localhost:8080/"
        },
        "id": "Y1ul6hMNQ2XF",
        "outputId": "6905e798-eb43-44ff-a99d-de6a45fd5ed4"
      },
      "outputs": [
        {
          "name": "stdout",
          "output_type": "stream",
          "text": [
            "Requirement already satisfied: paddlepaddle in c:\\users\\infor\\appdata\\local\\programs\\python\\python310\\lib\\site-packages (2.5.1)Note: you may need to restart the kernel to use updated packages.\n"
          ]
        },
        {
          "name": "stderr",
          "output_type": "stream",
          "text": [
            "WARNING: You are using pip version 21.2.3; however, version 23.2.1 is available.\n",
            "You should consider upgrading via the 'c:\\Users\\infor\\AppData\\Local\\Programs\\Python\\Python310\\python.exe -m pip install --upgrade pip' command.\n"
          ]
        },
        {
          "name": "stdout",
          "output_type": "stream",
          "text": [
            "\n",
            "Requirement already satisfied: httpx in c:\\users\\infor\\appdata\\local\\programs\\python\\python310\\lib\\site-packages (from paddlepaddle) (0.24.1)\n",
            "Requirement already satisfied: astor in c:\\users\\infor\\appdata\\local\\programs\\python\\python310\\lib\\site-packages (from paddlepaddle) (0.8.1)\n",
            "Requirement already satisfied: Pillow in c:\\users\\infor\\appdata\\local\\programs\\python\\python310\\lib\\site-packages (from paddlepaddle) (9.5.0)\n",
            "Requirement already satisfied: decorator in c:\\users\\infor\\appdata\\roaming\\python\\python310\\site-packages (from paddlepaddle) (5.1.1)\n",
            "Requirement already satisfied: protobuf<=3.20.2,>=3.1.0 in c:\\users\\infor\\appdata\\local\\programs\\python\\python310\\lib\\site-packages (from paddlepaddle) (3.20.2)\n",
            "Requirement already satisfied: numpy>=1.13 in c:\\users\\infor\\appdata\\local\\programs\\python\\python310\\lib\\site-packages (from paddlepaddle) (1.24.3)\n",
            "Requirement already satisfied: paddle-bfloat==0.1.7 in c:\\users\\infor\\appdata\\local\\programs\\python\\python310\\lib\\site-packages (from paddlepaddle) (0.1.7)\n",
            "Requirement already satisfied: opt-einsum==3.3.0 in c:\\users\\infor\\appdata\\local\\programs\\python\\python310\\lib\\site-packages (from paddlepaddle) (3.3.0)\n",
            "Requirement already satisfied: idna in c:\\users\\infor\\appdata\\local\\programs\\python\\python310\\lib\\site-packages (from httpx->paddlepaddle) (3.4)\n",
            "Requirement already satisfied: httpcore<0.18.0,>=0.15.0 in c:\\users\\infor\\appdata\\local\\programs\\python\\python310\\lib\\site-packages (from httpx->paddlepaddle) (0.17.3)\n",
            "Requirement already satisfied: certifi in c:\\users\\infor\\appdata\\local\\programs\\python\\python310\\lib\\site-packages (from httpx->paddlepaddle) (2023.7.22)\n",
            "Requirement already satisfied: sniffio in c:\\users\\infor\\appdata\\local\\programs\\python\\python310\\lib\\site-packages (from httpx->paddlepaddle) (1.3.0)\n",
            "Requirement already satisfied: h11<0.15,>=0.13 in c:\\users\\infor\\appdata\\local\\programs\\python\\python310\\lib\\site-packages (from httpcore<0.18.0,>=0.15.0->httpx->paddlepaddle) (0.14.0)\n",
            "Requirement already satisfied: anyio<5.0,>=3.0 in c:\\users\\infor\\appdata\\local\\programs\\python\\python310\\lib\\site-packages (from httpcore<0.18.0,>=0.15.0->httpx->paddlepaddle) (3.7.1)\n",
            "Requirement already satisfied: exceptiongroup in c:\\users\\infor\\appdata\\local\\programs\\python\\python310\\lib\\site-packages (from anyio<5.0,>=3.0->httpcore<0.18.0,>=0.15.0->httpx->paddlepaddle) (1.1.2)\n"
          ]
        }
      ],
      "source": [
        "%pip install paddlepaddle"
      ]
    },
    {
      "cell_type": "code",
      "execution_count": 24,
      "id": "x1m6LiY2R3be",
      "metadata": {
        "colab": {
          "base_uri": "https://localhost:8080/"
        },
        "id": "x1m6LiY2R3be",
        "outputId": "be78c799-51e9-4666-a546-cebad489fe92"
      },
      "outputs": [
        {
          "name": "stderr",
          "output_type": "stream",
          "text": [
            "\"wget\" no se reconoce como un comando interno o externo,\n",
            "programa o archivo por lotes ejecutable.\n",
            "\"sudo\" no se reconoce como un comando interno o externo,\n",
            "programa o archivo por lotes ejecutable.\n"
          ]
        }
      ],
      "source": [
        "!wget http://nz2.archive.ubuntu.com/ubuntu/pool/main/o/openssl/libssl1.1_1.1.1f-1ubuntu2.19_amd64.deb\n",
        "!sudo dpkg -i libssl1.1_1.1.1f-1ubuntu2.19_amd64.deb"
      ]
    },
    {
      "cell_type": "code",
      "execution_count": 25,
      "id": "f4YuBtF_P-eq",
      "metadata": {
        "id": "f4YuBtF_P-eq"
      },
      "outputs": [],
      "source": [
        "from paddleocr import PaddleOCR, draw_ocr # main OCR dependencies\n",
        "from matplotlib import pyplot as plt # plot images\n",
        "import cv2 #opencv\n",
        "import os # folder directory navigation"
      ]
    },
    {
      "cell_type": "markdown",
      "id": "vfT_G-76P-er",
      "metadata": {
        "id": "vfT_G-76P-er"
      },
      "source": [
        "# 2. Instantiate Model and Detect"
      ]
    },
    {
      "cell_type": "code",
      "execution_count": 26,
      "id": "iz3pbFlmP-er",
      "metadata": {
        "colab": {
          "base_uri": "https://localhost:8080/"
        },
        "collapsed": true,
        "id": "iz3pbFlmP-er",
        "outputId": "59a188f9-1dc7-46d9-8c78-922024611c58"
      },
      "outputs": [
        {
          "name": "stdout",
          "output_type": "stream",
          "text": [
            "[2023/09/11 08:24:04] ppocr DEBUG: Namespace(help='==SUPPRESS==', use_gpu=False, use_xpu=False, use_npu=False, ir_optim=True, use_tensorrt=False, min_subgraph_size=15, precision='fp32', gpu_mem=500, gpu_id=0, image_dir=None, page_num=0, det_algorithm='DB', det_model_dir='C:\\\\Users\\\\infor/.paddleocr/whl\\\\det\\\\en\\\\en_PP-OCRv3_det_infer', det_limit_side_len=960, det_limit_type='max', det_box_type='quad', det_db_thresh=0.3, det_db_box_thresh=0.6, det_db_unclip_ratio=1.5, max_batch_size=10, use_dilation=False, det_db_score_mode='fast', det_east_score_thresh=0.8, det_east_cover_thresh=0.1, det_east_nms_thresh=0.2, det_sast_score_thresh=0.5, det_sast_nms_thresh=0.2, det_pse_thresh=0, det_pse_box_thresh=0.85, det_pse_min_area=16, det_pse_scale=1, scales=[8, 16, 32], alpha=1.0, beta=1.0, fourier_degree=5, rec_algorithm='SVTR_LCNet', rec_model_dir='C:\\\\Users\\\\infor/.paddleocr/whl\\\\rec\\\\en\\\\en_PP-OCRv4_rec_infer', rec_image_inverse=True, rec_image_shape='3, 48, 320', rec_batch_num=6, max_text_length=25, rec_char_dict_path='c:\\\\Users\\\\infor\\\\AppData\\\\Local\\\\Programs\\\\Python\\\\Python310\\\\lib\\\\site-packages\\\\paddleocr\\\\ppocr\\\\utils\\\\en_dict.txt', use_space_char=True, vis_font_path='./doc/fonts/simfang.ttf', drop_score=0.5, e2e_algorithm='PGNet', e2e_model_dir=None, e2e_limit_side_len=768, e2e_limit_type='max', e2e_pgnet_score_thresh=0.5, e2e_char_dict_path='./ppocr/utils/ic15_dict.txt', e2e_pgnet_valid_set='totaltext', e2e_pgnet_mode='fast', use_angle_cls=False, cls_model_dir='C:\\\\Users\\\\infor/.paddleocr/whl\\\\cls\\\\ch_ppocr_mobile_v2.0_cls_infer', cls_image_shape='3, 48, 192', label_list=['0', '180'], cls_batch_num=6, cls_thresh=0.9, enable_mkldnn=False, cpu_threads=10, use_pdserving=False, warmup=False, sr_model_dir=None, sr_image_shape='3, 32, 128', sr_batch_num=1, draw_img_save_dir='./inference_results', save_crop_res=False, crop_res_save_dir='./output', use_mp=False, total_process_num=1, process_id=0, benchmark=False, save_log_path='./log_output/', show_log=True, use_onnx=False, return_word_box=False, output='./output', table_max_len=488, table_algorithm='TableAttn', table_model_dir=None, merge_no_span_structure=True, table_char_dict_path=None, layout_model_dir=None, layout_dict_path=None, layout_score_threshold=0.5, layout_nms_threshold=0.5, kie_algorithm='LayoutXLM', ser_model_dir=None, re_model_dir=None, use_visual_backbone=True, ser_dict_path='../train_data/XFUND/class_list_xfun.txt', ocr_order_method=None, mode='structure', image_orientation=False, layout=True, table=True, ocr=True, recovery=False, use_pdf2docx_api=False, lang='en', det=True, rec=True, type='ocr', ocr_version='PP-OCRv4', structure_version='PP-StructureV2')\n"
          ]
        }
      ],
      "source": [
        "# Setup model\n",
        "ocr_model = PaddleOCR(lang='en')"
      ]
    },
    {
      "cell_type": "code",
      "execution_count": 27,
      "id": "UhngZT5QP-es",
      "metadata": {
        "id": "UhngZT5QP-es"
      },
      "outputs": [],
      "source": [
        "img_path = os.path.join('.', 'imagenprueba10.jpg')"
      ]
    },
    {
      "cell_type": "code",
      "execution_count": 28,
      "id": "HCTAvbvfP-es",
      "metadata": {
        "colab": {
          "base_uri": "https://localhost:8080/"
        },
        "id": "HCTAvbvfP-es",
        "outputId": "d1c91e02-d6cb-44b2-fad1-0fa7893a7bbb"
      },
      "outputs": [
        {
          "name": "stdout",
          "output_type": "stream",
          "text": [
            "[2023/09/11 08:24:05] ppocr WARNING: Since the angle classifier is not initialized, the angle classifier will not be uesd during the forward process\n",
            "[2023/09/11 08:24:07] ppocr DEBUG: dt_boxes num : 18, elapse : 1.3191721439361572\n",
            "[2023/09/11 08:24:20] ppocr DEBUG: rec_res num  : 18, elapse : 12.910800695419312\n"
          ]
        }
      ],
      "source": [
        "# Run the ocr method on the ocr model\n",
        "result = ocr_model.ocr(img_path)"
      ]
    },
    {
      "cell_type": "code",
      "execution_count": 29,
      "id": "Zw7Vm8DfP-es",
      "metadata": {
        "colab": {
          "base_uri": "https://localhost:8080/"
        },
        "id": "Zw7Vm8DfP-es",
        "outputId": "c3a68ec5-cea9-4ab0-cd4b-54c15ab2bbee"
      },
      "outputs": [
        {
          "data": {
            "text/plain": [
              "[[[[[95.0, 256.0], [1175.0, 260.0], [1174.0, 309.0], [94.0, 306.0]],\n",
              "   (\"'REALLY FRIENDLY TEAM WHO\", 0.9289858341217041)],\n",
              "  [[[92.0, 340.0], [1269.0, 340.0], [1269.0, 390.0], [92.0, 390.0]],\n",
              "   ('AREATTHETOPOFTHEIRGAME', 0.9932222366333008)],\n",
              "  [[[92.0, 422.0], [1257.0, 422.0], [1257.0, 471.0], [92.0, 471.0]],\n",
              "   ('ANDATLASTSOMEWHEREWITH', 0.9913303852081299)],\n",
              "  [[[92.0, 502.0], [1262.0, 502.0], [1262.0, 552.0], [92.0, 552.0]],\n",
              "   ('ASHOWROOM ANDSAMPLESTO', 0.9702045917510986)],\n",
              "  [[[92.0, 580.0], [1221.0, 584.0], [1221.0, 635.0], [91.0, 631.0]],\n",
              "   ('HELPGETAGOODIDEAOFTHE', 0.9888876676559448)],\n",
              "  [[[94.0, 664.0], [1196.0, 664.0], [1196.0, 714.0], [94.0, 714.0]],\n",
              "   ('FINISHEDPRODUCT.THEYPUT', 0.9561837315559387)],\n",
              "  [[[93.0, 748.0], [1269.0, 748.0], [1269.0, 794.0], [93.0, 794.0]],\n",
              "   ('ME AT EASE WITH MY CONCERNS', 0.9729865193367004)],\n",
              "  [[[92.0, 828.0], [1058.0, 828.0], [1058.0, 878.0], [92.0, 878.0]],\n",
              "   ('AROUND CRACKING AND A', 0.9464144110679626)],\n",
              "  [[[93.0, 909.0], [1246.0, 909.0], [1246.0, 958.0], [93.0, 958.0]],\n",
              "   ('FUTUREPROOF FLOORING THAT', 0.9689549207687378)],\n",
              "  [[[92.0, 988.0], [1068.0, 990.0], [1068.0, 1041.0], [91.0, 1039.0]],\n",
              "   ('IS SOOOO EASY TO CLEAN.', 0.9760807752609253)],\n",
              "  [[[90.0, 1104.0], [585.0, 1104.0], [585.0, 1134.0], [90.0, 1134.0]],\n",
              "   ('GOOGLEREVIEW', 0.9917970299720764)],\n",
              "  [[[86.0, 1206.0], [525.0, 1209.0], [525.0, 1239.0], [85.0, 1236.0]],\n",
              "   ('https://abstractflooringco.com', 0.9979627728462219)],\n",
              "  [[[86.0, 1281.0], [129.0, 1281.0], [129.0, 1310.0], [86.0, 1310.0]],\n",
              "   ('UK', 0.9957835674285889)],\n",
              "  [[[720.0, 1281.0], [778.0, 1281.0], [778.0, 1310.0], [720.0, 1310.0]],\n",
              "   ('AUS', 0.9919583201408386)],\n",
              "  [[[87.0, 1322.0], [393.0, 1322.0], [393.0, 1347.0], [87.0, 1347.0]],\n",
              "   ('Tel:+442476713203', 0.9750204682350159)],\n",
              "  [[[720.0, 1322.0], [1026.0, 1322.0], [1026.0, 1347.0], [720.0, 1347.0]],\n",
              "   ('Tel:+611300270245', 0.9793530702590942)],\n",
              "  [[[87.0, 1360.0], [605.0, 1362.0], [604.0, 1389.0], [87.0, 1387.0]],\n",
              "   ('Email:hello@abstractflooringco.com', 0.9898303747177124)],\n",
              "  [[[720.0, 1360.0], [1283.0, 1364.0], [1282.0, 1389.0], [720.0, 1386.0]],\n",
              "   ('Email:hello@abstractflooringco.com.au', 0.9932328462600708)]]]"
            ]
          },
          "execution_count": 29,
          "metadata": {},
          "output_type": "execute_result"
        }
      ],
      "source": [
        "result"
      ]
    },
    {
      "cell_type": "code",
      "execution_count": 30,
      "id": "PcXIfCZ9P-et",
      "metadata": {
        "colab": {
          "base_uri": "https://localhost:8080/"
        },
        "id": "PcXIfCZ9P-et",
        "outputId": "b4f9c00f-f4f1-4626-ee41-e7c9bb866911"
      },
      "outputs": [
        {
          "name": "stdout",
          "output_type": "stream",
          "text": [
            "[[95.0, 256.0], [1175.0, 260.0], [1174.0, 309.0], [94.0, 306.0]]\n"
          ]
        }
      ],
      "source": [
        "for res in result:\n",
        "    print(res[0][0])"
      ]
    },
    {
      "cell_type": "markdown",
      "id": "ALv47s4YP-et",
      "metadata": {
        "id": "ALv47s4YP-et"
      },
      "source": [
        "# 3. Visualise Results"
      ]
    },
    {
      "cell_type": "code",
      "execution_count": 31,
      "id": "C2gV_cw-P-et",
      "metadata": {
        "id": "C2gV_cw-P-et"
      },
      "outputs": [],
      "source": [
        "# Extracting detected components\n",
        "boxes = [res[0] for res in result] #\n",
        "texts = [res[0][0] for res in result]\n",
        "scores = [res[0][0] for res in result]"
      ]
    },
    {
      "cell_type": "code",
      "execution_count": 32,
      "id": "_i5-9iDPcxKg",
      "metadata": {
        "colab": {
          "base_uri": "https://localhost:8080/"
        },
        "id": "_i5-9iDPcxKg",
        "outputId": "9ab13733-4c08-4192-9cdf-1700c19f9267"
      },
      "outputs": [
        {
          "data": {
            "text/plain": [
              "[[[95.0, 256.0], [1175.0, 260.0], [1174.0, 309.0], [94.0, 306.0]]]"
            ]
          },
          "execution_count": 32,
          "metadata": {},
          "output_type": "execute_result"
        }
      ],
      "source": [
        "scores"
      ]
    },
    {
      "cell_type": "code",
      "execution_count": 33,
      "id": "2wAKaw5VcuN4",
      "metadata": {
        "colab": {
          "base_uri": "https://localhost:8080/"
        },
        "id": "2wAKaw5VcuN4",
        "outputId": "b6144698-a2fd-46c2-bba9-f8bfad0518d1"
      },
      "outputs": [
        {
          "data": {
            "text/plain": [
              "[[[95.0, 256.0], [1175.0, 260.0], [1174.0, 309.0], [94.0, 306.0]]]"
            ]
          },
          "execution_count": 33,
          "metadata": {},
          "output_type": "execute_result"
        }
      ],
      "source": [
        "texts"
      ]
    },
    {
      "cell_type": "code",
      "execution_count": 34,
      "id": "sISdVLj2cLo_",
      "metadata": {
        "colab": {
          "base_uri": "https://localhost:8080/"
        },
        "id": "sISdVLj2cLo_",
        "outputId": "8ff035f0-dba4-40df-a3e8-e69a6f3cb16f"
      },
      "outputs": [
        {
          "data": {
            "text/plain": [
              "[[[[95.0, 256.0], [1175.0, 260.0], [1174.0, 309.0], [94.0, 306.0]],\n",
              "  (\"'REALLY FRIENDLY TEAM WHO\", 0.9289858341217041)]]"
            ]
          },
          "execution_count": 34,
          "metadata": {},
          "output_type": "execute_result"
        }
      ],
      "source": [
        "boxes"
      ]
    },
    {
      "cell_type": "code",
      "execution_count": 35,
      "id": "6Qv9a4XDP-eu",
      "metadata": {
        "id": "6Qv9a4XDP-eu"
      },
      "outputs": [],
      "source": [
        "# Specifying font path for draw_ocr method\n",
        "font_path = os.path.join('PaddleOCR', 'doc', 'fonts', 'latin.ttf')"
      ]
    },
    {
      "cell_type": "code",
      "execution_count": 36,
      "id": "fS76au7WP-eu",
      "metadata": {
        "id": "fS76au7WP-eu"
      },
      "outputs": [],
      "source": [
        "# Import our image - drug 1/2/3\n",
        "# imports image\n",
        "img = cv2.imread(img_path)\n",
        "\n",
        "# reorders the color channels\n",
        "img = cv2.cvtColor(img, cv2.COLOR_BGR2RGB)"
      ]
    },
    {
      "cell_type": "code",
      "execution_count": 37,
      "id": "cym66xnlP-eu",
      "metadata": {
        "colab": {
          "base_uri": "https://localhost:8080/"
        },
        "id": "cym66xnlP-eu",
        "outputId": "90383b4a-83cf-45f8-b668-08a9b9492d4a"
      },
      "outputs": [
        {
          "data": {
            "text/plain": [
              "(1440, 1440, 3)"
            ]
          },
          "execution_count": 37,
          "metadata": {},
          "output_type": "execute_result"
        }
      ],
      "source": [
        "img.shape"
      ]
    }
  ],
  "metadata": {
    "colab": {
      "provenance": []
    },
    "kernelspec": {
      "display_name": "Python 3",
      "language": "python",
      "name": "python3"
    },
    "language_info": {
      "codemirror_mode": {
        "name": "ipython",
        "version": 3
      },
      "file_extension": ".py",
      "mimetype": "text/x-python",
      "name": "python",
      "nbconvert_exporter": "python",
      "pygments_lexer": "ipython3",
      "version": "3.10.0"
    }
  },
  "nbformat": 4,
  "nbformat_minor": 5
}
